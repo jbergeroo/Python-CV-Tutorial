{
 "cells": [
  {
   "cell_type": "markdown",
   "metadata": {},
   "source": [
    "# Exploration d'OpenCV - Traitement d'Images et Vision par Ordinateur en Python\n",
    "\n",
    "## Introduction :\n",
    "OpenCV (Open Source Computer Vision Library) est une bibliothèque open-source très populaire pour le traitement d'images et la vision par ordinateur. Elle offre une gamme complète d'outils et de fonctions pour manipuler, traiter et analyser des images et des vidéos. Utilisée par des développeurs, des chercheurs et des amateurs, OpenCV permet d'accomplir une grande variété de tâches liées à la vision par ordinateur.\n",
    "\n",
    "## Principales Caractéristiques :\n",
    "\n",
    "***Traitement d'Images*** : OpenCV fournit un large éventail de fonctions pour le traitement d'images, telles que le filtrage, la transformation, la segmentation, la détection de contours, la réduction de bruit, etc.\n",
    "\n",
    "***Détection d'Objets*** : La bibliothèque dispose de modules spécifiques pour la détection d'objets, notamment la détection de visages, de personnes, de véhicules et d'autres éléments dans les images et les vidéos.\n",
    "\n",
    "***Suivi d'Objets*** : OpenCV propose des algorithmes de suivi d'objets qui permettent de suivre la trajectoire d'objets à travers des images ou des séquences vidéo.\n",
    "\n",
    "***Vision Stéréoscopique*** : OpenCV offre des fonctionnalités pour la vision stéréoscopique, permettant de créer des images en trois dimensions à partir de paires d'images prises sous différents angles.\n",
    "\n",
    "***Calibration de Caméra*** : Il est possible de calibrer des caméras pour corriger les distorsions et les problèmes de perspective, ce qui est essentiel pour de nombreuses applications de vision par ordinateur.\n",
    "\n",
    "***Traitement Vidéo*** : OpenCV permet de lire, d'écrire, de traiter et de manipuler des séquences vidéo, offrant ainsi une grande flexibilité pour travailler avec des flux vidéo en temps réel ou des enregistrements.\n",
    "\n",
    "***Interopérabilité*** : OpenCV est compatible avec de nombreux formats d'image et peut être intégré avec d'autres bibliothèques et frameworks tels que NumPy, Matplotlib et TensorFlow.\n",
    "\n",
    "***Utilisation*** :\n",
    "OpenCV est utilisée dans divers domaines tels que la reconnaissance faciale, la détection d'objets, la réalité augmentée, la surveillance vidéo, la robotique, la cartographie 3D, l'automatisation industrielle et bien plus encore. Que vous soyez un développeur souhaitant créer des applications de vision par ordinateur ou un chercheur explorant des problèmes complexes liés aux images, OpenCV offre les outils nécessaires pour réaliser vos projets.\n",
    "\n",
    "### Documentation\n",
    "\n",
    "Il sera impossible de couvrir toutes les fonctionnalités de la bibliothèque opencv ici, donc voici un lien pour la documentation si besoin (https://docs.opencv.org/4.x/d6/d00/tutorial_py_root.html)"
   ]
  },
  {
   "cell_type": "markdown",
   "metadata": {},
   "source": [
    "## Installation\n",
    "\n",
    "Dans votre environnement virtuel\n",
    "\n",
    "```bash\n",
    "pip install opencv-python\n",
    "```\n",
    "\n",
    "En sélectionnant votre environnement virtuel, vous allez ainsi pouvoir utiliser la libairie."
   ]
  },
  {
   "cell_type": "code",
   "execution_count": 3,
   "metadata": {},
   "outputs": [],
   "source": [
    "import numpy as np\n",
    "import cv2"
   ]
  },
  {
   "cell_type": "markdown",
   "metadata": {},
   "source": [
    "## Images\n",
    "\n",
    "Nous allons seulement nous attarder sur le traitement d'images car le traitement de vidéos est simplement le traitement de plusieurs images à la suite. Nous verrons tout d'abord comment charger, visualiser des images et ensuite nous ferons quelques analyses dessus. Nous utiliserons aussi la librairie numpy pour mieux montrer à quoi elle peut nous servir.\n",
    "\n",
    "### Charger et visualiser une image"
   ]
  },
  {
   "cell_type": "code",
   "execution_count": 36,
   "metadata": {},
   "outputs": [],
   "source": [
    "# lecture de l'image\n",
    "img = cv2.imread(\"./images/image.png\")\n",
    "\n",
    "cv2.imshow(\"image\", img)\n",
    "cv2.waitKey(0)\n",
    "cv2.destroyAllWindows()"
   ]
  },
  {
   "cell_type": "markdown",
   "metadata": {},
   "source": [
    "OpenCV va charger l'image sous la forme d'un numpy array. On peut alors accéder à ses dimensions (car une image est juste une matrice de taille Largeur, Longueur, 3). Elle contient en général des valeurs entre 0 et 255, qui indique la puissance des pixels Rouges, Verts et Bleus."
   ]
  },
  {
   "cell_type": "code",
   "execution_count": 9,
   "metadata": {},
   "outputs": [
    {
     "data": {
      "text/plain": [
       "((373, 669, 3), 0, 255)"
      ]
     },
     "execution_count": 9,
     "metadata": {},
     "output_type": "execute_result"
    }
   ],
   "source": [
    "img.shape, np.min(img), np.max(img)"
   ]
  },
  {
   "cell_type": "markdown",
   "metadata": {},
   "source": [
    "Pour la suite du notebook, nous allons travailler avec des images en noir et blanc, qui auront donc une taille de Largeur, Longueur."
   ]
  },
  {
   "cell_type": "code",
   "execution_count": 37,
   "metadata": {},
   "outputs": [
    {
     "name": "stdout",
     "output_type": "stream",
     "text": [
      "(373, 669)\n"
     ]
    }
   ],
   "source": [
    "img_gray = cv2.cvtColor(img, cv2.COLOR_BGR2GRAY)\n",
    "print(img_gray.shape)\n",
    "cv2.imshow(\"image\", img_gray)\n",
    "cv2.waitKey(0)\n",
    "cv2.destroyAllWindows()"
   ]
  },
  {
   "cell_type": "markdown",
   "metadata": {},
   "source": [
    "On peut alors sauvegarder cette image si besoin."
   ]
  },
  {
   "cell_type": "code",
   "execution_count": 8,
   "metadata": {},
   "outputs": [
    {
     "data": {
      "text/plain": [
       "True"
      ]
     },
     "execution_count": 8,
     "metadata": {},
     "output_type": "execute_result"
    }
   ],
   "source": [
    "cv2.imwrite(\"./images/test.png\", img_gray)"
   ]
  },
  {
   "cell_type": "markdown",
   "metadata": {},
   "source": [
    "## Opérations\n",
    "\n",
    "Nous allons décrire les principales opérations que l'on utilise dans le domaine de la computer vision. Ces opérations sont principalement utilisées, lorsque l'on fait du Deep Learning, en tant que pré-processing ou post-processing. Ce sont généralement des opérations qui vont lisser les données ou extraire les informations que l'on a trouvées.\n",
    "\n",
    "### Thresholding\n",
    "\n",
    "Comme vu dans la partie de Numpy, cela revient alors à appliquer un filtre à l'image et à ne garder que les valeurs indéfieurs au seuil. On se retrouve alors avec une image binaire que l'on multiplie par 255 pour le display."
   ]
  },
  {
   "cell_type": "code",
   "execution_count": 38,
   "metadata": {},
   "outputs": [],
   "source": [
    "seuil = 128\n",
    "img_tresh = (img_gray > seuil).astype(np.uint8) * 255\n",
    "\n",
    "cv2.imshow(\"image\", img_tresh)\n",
    "cv2.waitKey(0)\n",
    "cv2.destroyAllWindows()"
   ]
  },
  {
   "cell_type": "markdown",
   "metadata": {},
   "source": [
    "### Opérations morphologiques\n",
    "\n",
    "On va alors effectuer des opérations de dilatation ou d'érosion. L'érosion revient à considérer, pour chaque pixel, tous ses voisins. Si tous ses voisins ne valent pas 1, alors la valeur du pixel central va valoir 0. On a aussi le paramètre de *taille*, qui va considérer comme voisins tous les pixels à moins de *taille* de distance. La dilatation est l'opération inverse. Si au moins un voisin vaut 1, alors la nouvelle valeur sera 1. La dilation a tendance à aggrandir le masque alors que l'érosion le rétrécit. Il est souvent conseillé de le faire sur des images binaires. Vous pouvez faire varier le paramètre de taille pour voir les différences."
   ]
  },
  {
   "cell_type": "code",
   "execution_count": 39,
   "metadata": {},
   "outputs": [],
   "source": [
    "taille = 3\n",
    "\n",
    "kernel = np.ones((taille, taille),np.uint8)\n",
    "erosion = cv2.erode(img_tresh, kernel,iterations = 1)\n",
    "\n",
    "cv2.imshow(\"Erosion\", erosion)\n",
    "cv2.waitKey(0)\n",
    "cv2.destroyAllWindows()\n",
    "\n",
    "dilation = cv2.dilate(img_tresh, kernel,iterations = 1)\n",
    "\n",
    "cv2.imshow(\"Dilatation\", dilation)\n",
    "cv2.waitKey(0)\n",
    "cv2.destroyAllWindows()"
   ]
  },
  {
   "cell_type": "markdown",
   "metadata": {},
   "source": [
    "### Ouverture\n",
    "\n",
    "Il s'agit de l'érosion puis de la dilatation. Il a tendance à supprimer le bruit (donc utile en post processing).\n",
    "\n",
    "### Fermeture \n",
    "Il s'agit de la dilatation puis de l'érosion. Il a tendance à combler les trous."
   ]
  },
  {
   "cell_type": "code",
   "execution_count": 45,
   "metadata": {},
   "outputs": [],
   "source": [
    "taille = 3\n",
    "kernel = np.ones((taille, taille),np.uint8)\n",
    "\n",
    "cv2.imshow(\"Originale\", img_tresh)\n",
    "cv2.waitKey(0)\n",
    "cv2.destroyAllWindows()\n",
    "\n",
    "opening = cv2.morphologyEx(img_tresh, cv2.MORPH_OPEN, kernel)\n",
    "cv2.imshow(\"Ouverture\", opening)\n",
    "cv2.waitKey(0)\n",
    "cv2.destroyAllWindows()\n",
    "\n",
    "closing = cv2.morphologyEx(img_tresh, cv2.MORPH_CLOSE, kernel)\n",
    "cv2.imshow(\"Fermeture\", closing)\n",
    "cv2.waitKey(0)\n",
    "cv2.destroyAllWindows()"
   ]
  },
  {
   "cell_type": "markdown",
   "metadata": {},
   "source": [
    "### Composantes connectées\n",
    "\n",
    "Opencv nous permet aussi de trouver les composantes connectées sur une image. Par exemple, si on a un image binaire avec background versus voitures, on veut peut être isoler chacune des voitures."
   ]
  },
  {
   "cell_type": "code",
   "execution_count": 56,
   "metadata": {},
   "outputs": [],
   "source": [
    "# on cherche les composants où img_tresh vaut 255\n",
    "num_components, labels = cv2.connectedComponents(np.asarray((opening==255)*1, dtype='uint8'))\n",
    "\n",
    "for i in range(1, num_components) : # on ignore 0 car c'est le background*\n",
    "    # on récupère le label actuel\n",
    "    current_label = (labels == i).astype(np.uint8) * 255\n",
    "    cv2.imshow(\"Label\", current_label)\n",
    "    cv2.waitKey(0)\n",
    "cv2.destroyAllWindows()"
   ]
  }
 ],
 "metadata": {
  "kernelspec": {
   "display_name": ".venv",
   "language": "python",
   "name": "python3"
  },
  "language_info": {
   "codemirror_mode": {
    "name": "ipython",
    "version": 3
   },
   "file_extension": ".py",
   "mimetype": "text/x-python",
   "name": "python",
   "nbconvert_exporter": "python",
   "pygments_lexer": "ipython3",
   "version": "3.11.3"
  },
  "orig_nbformat": 4
 },
 "nbformat": 4,
 "nbformat_minor": 2
}
