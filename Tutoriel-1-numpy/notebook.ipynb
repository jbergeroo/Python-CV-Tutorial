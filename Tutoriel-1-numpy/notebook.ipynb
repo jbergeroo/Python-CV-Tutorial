{
 "cells": [
  {
   "cell_type": "markdown",
   "metadata": {},
   "source": [
    "#  Découverte de NumPy - La Bibliothèque Fondamentale pour le Calcul Numérique en Python\n",
    "\n",
    "## Introduction :\n",
    "NumPy (Numeric Python) est une bibliothèque open-source essentielle pour le calcul numérique en Python. Elle fournit des structures de données et des fonctions pour manipuler efficacement des tableaux multidimensionnels, ce qui en fait l'outil de choix pour les scientifiques, les ingénieurs et les développeurs qui travaillent sur des tâches impliquant des opérations mathématiques et statistiques complexes.\n",
    "\n",
    "## Principales Caractéristiques :\n",
    "\n",
    "***Tableaux N-dimensionnels (ndarrays)*** : NumPy introduit le concept de tableaux multidimensionnels, qui permettent de stocker des données de manière efficace sous forme de matrices à N dimensions. Ces tableaux offrent des performances optimales pour des opérations en masse.\n",
    "\n",
    "***Opérations Mathématiques Universelles (ufuncs)*** : NumPy propose un ensemble d'opérations mathématiques universelles telles que l'addition, la soustraction, la multiplication, la division et d'autres fonctions avancées, appliquées élément par élément sur les tableaux, ce qui évite la nécessité d'écrire des boucles explicites.\n",
    "\n",
    "***Différentes Types de Données*** : NumPy prend en charge divers types de données numériques, tels que les entiers, les flottants et les complexes, avec différentes précisions. Cela permet de manipuler et de stocker différents types de données dans les tableaux.\n",
    "\n",
    "***Indexing et Slicing Puissants*** : Les tableaux NumPy peuvent être indexés et découpés de manière efficace pour extraire des sous-tableaux, ce qui facilite la manipulation des données.\n",
    "\n",
    "***Broadcasting*** : Le broadcasting permet d'effectuer des opérations entre des tableaux de formes différentes, en les adaptant automatiquement pour qu'ils aient la même forme, ce qui simplifie les calculs.\n",
    "\n",
    "***Fonctions de Traitement de Tableaux*** : NumPy propose des fonctions pour effectuer des opérations statistiques, de tri, de manipulation de forme et bien plus encore sur les tableaux.\n",
    "\n",
    "***Intégration avec d'autres Bibliothèques*** : NumPy est souvent utilisé en conjonction avec des bibliothèques telles que SciPy (pour l'optimisation et les analyses scientifiques), Matplotlib (pour la visualisation) et Pandas (pour la manipulation de données tabulaires).\n",
    "\n",
    "***Utilisation*** :\n",
    "NumPy est largement utilisé dans de nombreux domaines, notamment les sciences des données, la recherche scientifique, la modélisation mathématique, la bioinformatique, la finance quantitative et la physique. Ses capacités en matière de calcul numérique accéléré sont cruciales pour traiter des ensembles de données volumineux et pour exécuter des simulations complexes.\n",
    "\n",
    "### Documentation\n",
    "\n",
    "Il sera impossible de couvrir toutes les fonctionnalités de la bibliothèque Numpy ici, donc voici un lien pour la documentation si besoin (https://numpy.org/doc/1.25/)"
   ]
  },
  {
   "cell_type": "markdown",
   "metadata": {},
   "source": [
    "## Installation\n",
    "\n",
    "Dans votre environnement virtuel\n",
    "\n",
    "```bash\n",
    "pip install numpy\n",
    "```\n",
    "\n",
    "En sélectionnant votre environnement virtuel, vous allez ainsi pouvoir utiliser la libairie."
   ]
  },
  {
   "cell_type": "code",
   "execution_count": 2,
   "metadata": {},
   "outputs": [],
   "source": [
    "import numpy as np"
   ]
  },
  {
   "cell_type": "markdown",
   "metadata": {},
   "source": [
    "### Arrays\n",
    "\n",
    "### Introduction\n",
    "\n",
    "Numpy se base sur les tableaux, appelés *arrays*. Contrairement aux listes Python, ces arrays ont une taille fixe lors de leur création. De plus, tous les éléments de l'array se doivent d'être du même type (on ne peut pas mélanger des chaînes de caractères avec des entiers). Cependant, un nombre bien plus varié d'opérations sont présentes et celles-ci sont beaucoup plus rapides que sur des listes. Nous allons tout d'abord voir commen créer ces dits *arrays*."
   ]
  },
  {
   "cell_type": "code",
   "execution_count": 4,
   "metadata": {},
   "outputs": [],
   "source": [
    "# Première méthode : Avec une liste\n",
    "a_list = np.array([1, 2, 3, 4])"
   ]
  },
  {
   "cell_type": "markdown",
   "metadata": {},
   "source": [
    "Il est ensuite possible d'accéder aux différentes valeurs de notre *array* de la même manière qu'avec les listes."
   ]
  },
  {
   "cell_type": "code",
   "execution_count": 5,
   "metadata": {},
   "outputs": [
    {
     "data": {
      "text/plain": [
       "1"
      ]
     },
     "execution_count": 5,
     "metadata": {},
     "output_type": "execute_result"
    }
   ],
   "source": [
    "a_list[0]"
   ]
  },
  {
   "cell_type": "markdown",
   "metadata": {},
   "source": [
    "Ses tableaux ont une taille fixe, et on peut y accéder avec l'attribut *shape* du tableau."
   ]
  },
  {
   "cell_type": "code",
   "execution_count": 6,
   "metadata": {},
   "outputs": [
    {
     "data": {
      "text/plain": [
       "(4,)"
      ]
     },
     "execution_count": 6,
     "metadata": {},
     "output_type": "execute_result"
    }
   ],
   "source": [
    "a_list.shape"
   ]
  },
  {
   "cell_type": "markdown",
   "metadata": {},
   "source": [
    "Il y a d'autres manières de créer des *arrays* en se basant cette fois-ci sur la taille désirée. Ils seront remplis de 0 ou de 1 ou ordonnés."
   ]
  },
  {
   "cell_type": "code",
   "execution_count": 16,
   "metadata": {},
   "outputs": [
    {
     "data": {
      "text/plain": [
       "((3, 2), (6,))"
      ]
     },
     "execution_count": 16,
     "metadata": {},
     "output_type": "execute_result"
    }
   ],
   "source": [
    "a_zeros = np.zeros((3,2)) # avec des 0\n",
    "a_ones = np.ones((2,3)) # avec des 1\n",
    "a_range = np.arange(6) # 0 1 2 3 4 5\n",
    "a_zeros.shape, a_range.shape"
   ]
  },
  {
   "cell_type": "markdown",
   "metadata": {},
   "source": [
    "Il est alors possible de récupérer la valeur d'un *array* multi-dimentionnel comme suit."
   ]
  },
  {
   "cell_type": "code",
   "execution_count": 8,
   "metadata": {},
   "outputs": [
    {
     "data": {
      "text/plain": [
       "1.0"
      ]
     },
     "execution_count": 8,
     "metadata": {},
     "output_type": "execute_result"
    }
   ],
   "source": [
    "a_ones[1,2]"
   ]
  },
  {
   "cell_type": "markdown",
   "metadata": {},
   "source": [
    "### Reshape\n",
    "\n",
    "Bien que la taille soit fixée à la création, il est possible de créer des *arrays* avec des tailles similaires, c'est à dire, contenant autant d'éléments mais dans un sens différent."
   ]
  },
  {
   "cell_type": "code",
   "execution_count": 12,
   "metadata": {},
   "outputs": [
    {
     "name": "stdout",
     "output_type": "stream",
     "text": [
      "Taille de a : (6,)\n",
      "Taille de b : (3, 2)\n",
      "Taille de c : (1, 6)\n"
     ]
    }
   ],
   "source": [
    "a = np.array([1, 2, 3, 4, 5, 6])\n",
    "print(\"Taille de a : {}\".format(a.shape))\n",
    "b = a.reshape(3, 2)\n",
    "print(\"Taille de b : {}\".format(b.shape))\n",
    "c = a[np.newaxis, :]\n",
    "print(\"Taille de c : {}\".format(c.shape))"
   ]
  },
  {
   "cell_type": "markdown",
   "metadata": {},
   "source": [
    "### Slicing\n",
    "\n",
    "De même que pour les listes, il est possible d'accéder aux éléments entre les indices x et y."
   ]
  },
  {
   "cell_type": "code",
   "execution_count": 19,
   "metadata": {},
   "outputs": [
    {
     "data": {
      "text/plain": [
       "(array([5, 6, 7]), 11)"
      ]
     },
     "execution_count": 19,
     "metadata": {},
     "output_type": "execute_result"
    }
   ],
   "source": [
    "a = np.arange(12)\n",
    "a[5:8], a[-1]"
   ]
  },
  {
   "cell_type": "markdown",
   "metadata": {},
   "source": [
    "### Condition\n",
    "\n",
    "Il est possible d'effectuer d'appliquer une condition sur un *array*. On va alors avoir un array de la même taille qu'à l'origine mais avec des True ou False. Il sera alors possible de sélectionner ces derniers."
   ]
  },
  {
   "cell_type": "code",
   "execution_count": 20,
   "metadata": {},
   "outputs": [
    {
     "data": {
      "text/plain": [
       "array([False, False, False, False, False, False,  True,  True,  True,\n",
       "        True,  True,  True])"
      ]
     },
     "execution_count": 20,
     "metadata": {},
     "output_type": "execute_result"
    }
   ],
   "source": [
    "a = np.arange(12)\n",
    "a > 5"
   ]
  },
  {
   "cell_type": "code",
   "execution_count": 22,
   "metadata": {},
   "outputs": [
    {
     "data": {
      "text/plain": [
       "array([ 0,  2,  4,  6,  8, 10])"
      ]
     },
     "execution_count": 22,
     "metadata": {},
     "output_type": "execute_result"
    }
   ],
   "source": [
    "a = a[a%2 == 0] # sélectionne que les éléments pairs de a\n",
    "a"
   ]
  },
  {
   "cell_type": "markdown",
   "metadata": {},
   "source": [
    "## Fonctions de base\n",
    "\n",
    "Souvent, nous stockons des grosses quantités de données dans un *array* et il peut alors être intéressant d'avoir une idée de la valeur maximale, minimale ou autre. Il existe alors plusieurs fonctions qui permettent de faire ça. \n",
    "- .min() pour le minimum\n",
    "- .max() pour le maximum\n",
    "- .mean() pour la moyenne\n",
    "- .sum() pour la somme\n",
    "\n",
    "etc."
   ]
  },
  {
   "cell_type": "code",
   "execution_count": 23,
   "metadata": {},
   "outputs": [
    {
     "data": {
      "text/plain": [
       "(0, 11, 5.5, 66)"
      ]
     },
     "execution_count": 23,
     "metadata": {},
     "output_type": "execute_result"
    }
   ],
   "source": [
    "a = np.arange(12)\n",
    "a.min(), a.max(), a.mean(), a.sum()"
   ]
  },
  {
   "cell_type": "markdown",
   "metadata": {},
   "source": [
    "Il est aussi possible de ne calculer ces valeurs que sur un axe de l'array."
   ]
  },
  {
   "cell_type": "code",
   "execution_count": 3,
   "metadata": {},
   "outputs": [
    {
     "data": {
      "text/plain": [
       "array([0, 1, 2])"
      ]
     },
     "execution_count": 3,
     "metadata": {},
     "output_type": "execute_result"
    }
   ],
   "source": [
    "a = np.arange(12)\n",
    "b = a.reshape(4,3)\n",
    "\n",
    "b.min(axis=0)"
   ]
  },
  {
   "cell_type": "markdown",
   "metadata": {},
   "source": [
    "On peut aussi chercher l'indice de la valeur maximale ou minimale."
   ]
  },
  {
   "cell_type": "code",
   "execution_count": 4,
   "metadata": {},
   "outputs": [
    {
     "data": {
      "text/plain": [
       "(11, 0)"
      ]
     },
     "execution_count": 4,
     "metadata": {},
     "output_type": "execute_result"
    }
   ],
   "source": [
    "np.argmax(a), np.argmin(a)"
   ]
  },
  {
   "cell_type": "markdown",
   "metadata": {},
   "source": [
    "### Produits et sommes\n",
    "\n",
    "Comme en mathématiques, les dimensions doivent être respectées pour faire ces calculs. Cependant, Numpy est assez souple et s'il est possible par extension d'obtenir la bonne taille pour les deux arrays, alors le calcul se fera sans problèmes. On peut alors additionner un array et un float sans problèmes."
   ]
  },
  {
   "cell_type": "code",
   "execution_count": 27,
   "metadata": {},
   "outputs": [
    {
     "data": {
      "text/plain": [
       "array([ 1,  2,  3,  4,  5,  6,  7,  8,  9, 10, 11, 12])"
      ]
     },
     "execution_count": 27,
     "metadata": {},
     "output_type": "execute_result"
    }
   ],
   "source": [
    "a = np.arange(12)\n",
    "b = a + 1\n",
    "b"
   ]
  },
  {
   "cell_type": "markdown",
   "metadata": {},
   "source": [
    "## Reshaping \n",
    "\n",
    "On a déjà vu comment reshape un array. Cependant, on va voir comment échanger l'ordre des dimensions."
   ]
  },
  {
   "cell_type": "code",
   "execution_count": 28,
   "metadata": {},
   "outputs": [
    {
     "name": "stdout",
     "output_type": "stream",
     "text": [
      "(5, 7, 3)\n",
      "(3, 7, 5)\n"
     ]
    }
   ],
   "source": [
    "a = np.zeros((5,7,3))\n",
    "print(a.shape)\n",
    "b = np.transpose(a, (2,1,0))\n",
    "print(b.shape)"
   ]
  },
  {
   "cell_type": "markdown",
   "metadata": {},
   "source": [
    "On a fait passé la dimension d'indice 2 en premier, suivit de celle indéxée 1 puis finalement la première."
   ]
  },
  {
   "cell_type": "code",
   "execution_count": 30,
   "metadata": {},
   "outputs": [
    {
     "data": {
      "text/plain": [
       "((105,), 105)"
      ]
     },
     "execution_count": 30,
     "metadata": {},
     "output_type": "execute_result"
    }
   ],
   "source": [
    "a = np.zeros((5,7,3))\n",
    "b = a.flatten()\n",
    "b.shape, 5 * 7 * 3"
   ]
  }
 ],
 "metadata": {
  "kernelspec": {
   "display_name": ".venv",
   "language": "python",
   "name": "python3"
  },
  "language_info": {
   "codemirror_mode": {
    "name": "ipython",
    "version": 3
   },
   "file_extension": ".py",
   "mimetype": "text/x-python",
   "name": "python",
   "nbconvert_exporter": "python",
   "pygments_lexer": "ipython3",
   "version": "3.11.3"
  },
  "orig_nbformat": 4
 },
 "nbformat": 4,
 "nbformat_minor": 2
}
