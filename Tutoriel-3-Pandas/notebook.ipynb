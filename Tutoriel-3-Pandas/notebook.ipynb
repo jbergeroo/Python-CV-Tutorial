{
 "cells": [
  {
   "cell_type": "markdown",
   "metadata": {},
   "source": [
    "# Exploration de Pandas - Analyse et Manipulation de Données en Python\n",
    "\n",
    "## Introduction :\n",
    "Pandas est une bibliothèque open-source incontournable en Python pour l'analyse, la manipulation et la préparation de données. Elle fournit des structures de données flexibles et performantes, ainsi qu'un large éventail d'outils pour effectuer des opérations complexes sur les données tabulaires. Pandas est utilisée dans divers domaines, notamment l'analyse de données, la science des données et le développement d'applications axées sur les données.\n",
    "\n",
    "## Principales Caractéristiques :\n",
    "\n",
    "***DataFrames et Séries*** : Les deux structures de données fondamentales de Pandas sont les DataFrames et les Séries. Les DataFrames sont des tableaux bidimensionnels qui permettent de stocker et de manipuler des données tabulaires avec des colonnes potentiellement de types différents. Les Séries sont des structures unidimensionnelles similaires aux tableaux, mais avec des étiquettes d'index.\n",
    "\n",
    "***Chargement et Sauvegarde de Données*** : Pandas offre des outils puissants pour importer des données à partir de divers formats tels que CSV, Excel, SQL, JSON, etc., ainsi que pour sauvegarder les résultats dans ces mêmes formats.\n",
    "\n",
    "***Indexing et Sélection*** : Pandas propose des options flexibles pour indexer, sélectionner et filtrer les données en fonction des conditions, des valeurs d'index et des étiquettes de colonne.\n",
    "\n",
    "***Nettoyage et Préparation des Données*** : La bibliothèque facilite le nettoyage des données en détectant et en traitant les valeurs manquantes, en supprimant les duplications et en transformant les données en vue de l'analyse.\n",
    "\n",
    "***Opérations de Groupe et d'Aggrégation*** : Pandas permet de regrouper les données en fonction de critères spécifiques, puis d'effectuer des opérations d'agrégation telles que la somme, la moyenne, la médiane, etc., sur ces groupes.\n",
    "\n",
    "***Manipulation de Colonnes*** : Vous pouvez ajouter, supprimer ou renommer des colonnes dans les DataFrames, ainsi que créer de nouvelles colonnes basées sur des calculs ou des conditions.\n",
    "\n",
    "***Intégration avec d'autres Bibliothèques*** : Pandas s'intègre harmonieusement avec d'autres bibliothèques Python telles que NumPy, Matplotlib et SciPy pour réaliser des analyses et des visualisations de données plus avancées.\n",
    "\n",
    "***Utilisation*** :\n",
    "Pandas est utilisée dans une variété de scénarios, tels que la préparation de données avant l'analyse, la manipulation de jeux de données volumineux, la création de tableaux de bord interactifs, la génération de rapports et bien plus encore. Elle est une étape cruciale dans le flux de travail de la science des données, depuis l'acquisition des données brutes jusqu'à leur transformation en informations exploitables.\n",
    "\n",
    "### Documentation\n",
    "\n",
    "Il sera impossible de couvrir toutes les fonctionnalités de la bibliothèque Pandas ici, donc voici un lien pour la documentation si besoin (https://pandas.pydata.org/docs/getting_started/index.html#getting-started)"
   ]
  },
  {
   "cell_type": "markdown",
   "metadata": {},
   "source": [
    "## Installation\n",
    "\n",
    "Dans votre environnement virtuel\n",
    "\n",
    "```bash\n",
    "pip install pandas\n",
    "```\n",
    "\n",
    "En sélectionnant votre environnement virtuel, vous allez ainsi pouvoir utiliser la libairie."
   ]
  },
  {
   "cell_type": "code",
   "execution_count": 2,
   "metadata": {},
   "outputs": [],
   "source": [
    "import pandas as pd"
   ]
  },
  {
   "cell_type": "markdown",
   "metadata": {},
   "source": [
    "### Lecture et sauvegarde d'un fichier"
   ]
  },
  {
   "cell_type": "code",
   "execution_count": 27,
   "metadata": {},
   "outputs": [
    {
     "data": {
      "text/html": [
       "<div>\n",
       "<style scoped>\n",
       "    .dataframe tbody tr th:only-of-type {\n",
       "        vertical-align: middle;\n",
       "    }\n",
       "\n",
       "    .dataframe tbody tr th {\n",
       "        vertical-align: top;\n",
       "    }\n",
       "\n",
       "    .dataframe thead th {\n",
       "        text-align: right;\n",
       "    }\n",
       "</style>\n",
       "<table border=\"1\" class=\"dataframe\">\n",
       "  <thead>\n",
       "    <tr style=\"text-align: right;\">\n",
       "      <th></th>\n",
       "      <th>LatD</th>\n",
       "      <th>LatM</th>\n",
       "      <th>LatS</th>\n",
       "      <th>NS</th>\n",
       "      <th>LonD</th>\n",
       "      <th>LonM</th>\n",
       "      <th>LonS</th>\n",
       "      <th>EW</th>\n",
       "      <th>City</th>\n",
       "      <th>State</th>\n",
       "    </tr>\n",
       "  </thead>\n",
       "  <tbody>\n",
       "    <tr>\n",
       "      <th>0</th>\n",
       "      <td>41</td>\n",
       "      <td>5</td>\n",
       "      <td>59</td>\n",
       "      <td>N</td>\n",
       "      <td>80</td>\n",
       "      <td>39</td>\n",
       "      <td>0</td>\n",
       "      <td>W</td>\n",
       "      <td>Youngstown</td>\n",
       "      <td>OH</td>\n",
       "    </tr>\n",
       "    <tr>\n",
       "      <th>1</th>\n",
       "      <td>42</td>\n",
       "      <td>52</td>\n",
       "      <td>48</td>\n",
       "      <td>N</td>\n",
       "      <td>97</td>\n",
       "      <td>23</td>\n",
       "      <td>23</td>\n",
       "      <td>W</td>\n",
       "      <td>Yankton</td>\n",
       "      <td>SD</td>\n",
       "    </tr>\n",
       "    <tr>\n",
       "      <th>2</th>\n",
       "      <td>46</td>\n",
       "      <td>35</td>\n",
       "      <td>59</td>\n",
       "      <td>N</td>\n",
       "      <td>120</td>\n",
       "      <td>30</td>\n",
       "      <td>36</td>\n",
       "      <td>W</td>\n",
       "      <td>Yakima</td>\n",
       "      <td>WA</td>\n",
       "    </tr>\n",
       "    <tr>\n",
       "      <th>3</th>\n",
       "      <td>42</td>\n",
       "      <td>16</td>\n",
       "      <td>12</td>\n",
       "      <td>N</td>\n",
       "      <td>71</td>\n",
       "      <td>48</td>\n",
       "      <td>0</td>\n",
       "      <td>W</td>\n",
       "      <td>Worcester</td>\n",
       "      <td>MA</td>\n",
       "    </tr>\n",
       "    <tr>\n",
       "      <th>4</th>\n",
       "      <td>43</td>\n",
       "      <td>37</td>\n",
       "      <td>48</td>\n",
       "      <td>N</td>\n",
       "      <td>89</td>\n",
       "      <td>46</td>\n",
       "      <td>11</td>\n",
       "      <td>W</td>\n",
       "      <td>WisconsinDells</td>\n",
       "      <td>WI</td>\n",
       "    </tr>\n",
       "  </tbody>\n",
       "</table>\n",
       "</div>"
      ],
      "text/plain": [
       "   LatD  LatM  LatS NS  LonD  LonM  LonS EW            City State\n",
       "0    41     5    59  N    80    39     0  W      Youngstown    OH\n",
       "1    42    52    48  N    97    23    23  W         Yankton    SD\n",
       "2    46    35    59  N   120    30    36  W          Yakima    WA\n",
       "3    42    16    12  N    71    48     0  W       Worcester    MA\n",
       "4    43    37    48  N    89    46    11  W  WisconsinDells    WI"
      ]
     },
     "execution_count": 27,
     "metadata": {},
     "output_type": "execute_result"
    }
   ],
   "source": [
    "df = pd.read_csv(\"./dataframes/cities.csv\")\n",
    "df.to_csv(\"./dataframes/cities.csv\", index=False)\n",
    "df.head()"
   ]
  },
  {
   "cell_type": "markdown",
   "metadata": {},
   "source": [
    "### Colonnes\n",
    "\n",
    "Le dataframe est un tableau avec des colonnes et des lignes. Les lignes sont généralement indéxées de 0 à n et les colonnes ont des noms que l'on peut accéder par l'attribut 'columns'."
   ]
  },
  {
   "cell_type": "code",
   "execution_count": 29,
   "metadata": {},
   "outputs": [
    {
     "data": {
      "text/plain": [
       "['LatD', 'LatM', 'LatS', 'NS', 'LonD', 'LonM', 'LonS', 'EW', 'City', 'State']"
      ]
     },
     "execution_count": 29,
     "metadata": {},
     "output_type": "execute_result"
    }
   ],
   "source": [
    "list(df.columns)"
   ]
  },
  {
   "cell_type": "markdown",
   "metadata": {},
   "source": [
    "On peut alors ensuite accéder à toutes les valeurs d'une colonne, voire même une seule valeur en prenant l'index."
   ]
  },
  {
   "cell_type": "code",
   "execution_count": 30,
   "metadata": {},
   "outputs": [
    {
     "data": {
      "text/plain": [
       "0      OH\n",
       "1      SD\n",
       "2      WA\n",
       "3      MA\n",
       "4      WI\n",
       "       ..\n",
       "123    NV\n",
       "124    SA\n",
       "125    CA\n",
       "126    PA\n",
       "127    OH\n",
       "Name: State, Length: 128, dtype: object"
      ]
     },
     "execution_count": 30,
     "metadata": {},
     "output_type": "execute_result"
    }
   ],
   "source": [
    "df[\"State\"]"
   ]
  },
  {
   "cell_type": "code",
   "execution_count": 32,
   "metadata": {},
   "outputs": [
    {
     "data": {
      "text/plain": [
       "'MA'"
      ]
     },
     "execution_count": 32,
     "metadata": {},
     "output_type": "execute_result"
    }
   ],
   "source": [
    "df[\"State\"][3]"
   ]
  },
  {
   "cell_type": "markdown",
   "metadata": {},
   "source": [
    "### Fonctions de mapping\n",
    "\n",
    "Cela permet de créer une nouvelle colonne en appliquant une opération sur une autre colonne. Par exemple, si je veux remplacer la colonne 'City' par une colonne 'City_min' où c'est écrit en minuscule. Je définis alors une fonction qui prend en paramètre 'x' et qui retourne ce que je désire. Et je peux ensuite définir ma nouvelle colonne en appliquant cette opération sur mon ancienne colonne."
   ]
  },
  {
   "cell_type": "code",
   "execution_count": 33,
   "metadata": {},
   "outputs": [
    {
     "data": {
      "text/html": [
       "<div>\n",
       "<style scoped>\n",
       "    .dataframe tbody tr th:only-of-type {\n",
       "        vertical-align: middle;\n",
       "    }\n",
       "\n",
       "    .dataframe tbody tr th {\n",
       "        vertical-align: top;\n",
       "    }\n",
       "\n",
       "    .dataframe thead th {\n",
       "        text-align: right;\n",
       "    }\n",
       "</style>\n",
       "<table border=\"1\" class=\"dataframe\">\n",
       "  <thead>\n",
       "    <tr style=\"text-align: right;\">\n",
       "      <th></th>\n",
       "      <th>LatD</th>\n",
       "      <th>LatM</th>\n",
       "      <th>LatS</th>\n",
       "      <th>NS</th>\n",
       "      <th>LonD</th>\n",
       "      <th>LonM</th>\n",
       "      <th>LonS</th>\n",
       "      <th>EW</th>\n",
       "      <th>City</th>\n",
       "      <th>State</th>\n",
       "      <th>City_min</th>\n",
       "    </tr>\n",
       "  </thead>\n",
       "  <tbody>\n",
       "    <tr>\n",
       "      <th>0</th>\n",
       "      <td>41</td>\n",
       "      <td>5</td>\n",
       "      <td>59</td>\n",
       "      <td>N</td>\n",
       "      <td>80</td>\n",
       "      <td>39</td>\n",
       "      <td>0</td>\n",
       "      <td>W</td>\n",
       "      <td>Youngstown</td>\n",
       "      <td>OH</td>\n",
       "      <td>youngstown</td>\n",
       "    </tr>\n",
       "    <tr>\n",
       "      <th>1</th>\n",
       "      <td>42</td>\n",
       "      <td>52</td>\n",
       "      <td>48</td>\n",
       "      <td>N</td>\n",
       "      <td>97</td>\n",
       "      <td>23</td>\n",
       "      <td>23</td>\n",
       "      <td>W</td>\n",
       "      <td>Yankton</td>\n",
       "      <td>SD</td>\n",
       "      <td>yankton</td>\n",
       "    </tr>\n",
       "    <tr>\n",
       "      <th>2</th>\n",
       "      <td>46</td>\n",
       "      <td>35</td>\n",
       "      <td>59</td>\n",
       "      <td>N</td>\n",
       "      <td>120</td>\n",
       "      <td>30</td>\n",
       "      <td>36</td>\n",
       "      <td>W</td>\n",
       "      <td>Yakima</td>\n",
       "      <td>WA</td>\n",
       "      <td>yakima</td>\n",
       "    </tr>\n",
       "    <tr>\n",
       "      <th>3</th>\n",
       "      <td>42</td>\n",
       "      <td>16</td>\n",
       "      <td>12</td>\n",
       "      <td>N</td>\n",
       "      <td>71</td>\n",
       "      <td>48</td>\n",
       "      <td>0</td>\n",
       "      <td>W</td>\n",
       "      <td>Worcester</td>\n",
       "      <td>MA</td>\n",
       "      <td>worcester</td>\n",
       "    </tr>\n",
       "    <tr>\n",
       "      <th>4</th>\n",
       "      <td>43</td>\n",
       "      <td>37</td>\n",
       "      <td>48</td>\n",
       "      <td>N</td>\n",
       "      <td>89</td>\n",
       "      <td>46</td>\n",
       "      <td>11</td>\n",
       "      <td>W</td>\n",
       "      <td>WisconsinDells</td>\n",
       "      <td>WI</td>\n",
       "      <td>wisconsindells</td>\n",
       "    </tr>\n",
       "  </tbody>\n",
       "</table>\n",
       "</div>"
      ],
      "text/plain": [
       "   LatD  LatM  LatS NS  LonD  LonM  LonS EW            City State  \\\n",
       "0    41     5    59  N    80    39     0  W      Youngstown    OH   \n",
       "1    42    52    48  N    97    23    23  W         Yankton    SD   \n",
       "2    46    35    59  N   120    30    36  W          Yakima    WA   \n",
       "3    42    16    12  N    71    48     0  W       Worcester    MA   \n",
       "4    43    37    48  N    89    46    11  W  WisconsinDells    WI   \n",
       "\n",
       "         City_min  \n",
       "0      youngstown  \n",
       "1         yankton  \n",
       "2          yakima  \n",
       "3       worcester  \n",
       "4  wisconsindells  "
      ]
     },
     "execution_count": 33,
     "metadata": {},
     "output_type": "execute_result"
    }
   ],
   "source": [
    "def to_lower(x) :\n",
    "    return x.lower()\n",
    "\n",
    "df['City_min'] = df['City'].apply(lambda x : to_lower(x))\n",
    "\n",
    "df.head()"
   ]
  },
  {
   "cell_type": "markdown",
   "metadata": {},
   "source": [
    "### Fonctions de filtre\n",
    "\n",
    "Parfois, on ne va vouloir garder qu'une partie du dataframe sous certaines conditions. On va alors pouvoir faire des filtres pour supprimer une partie des données."
   ]
  },
  {
   "cell_type": "code",
   "execution_count": 34,
   "metadata": {},
   "outputs": [
    {
     "name": "stdout",
     "output_type": "stream",
     "text": [
      "Il y a 128 lignes.\n",
      "Il y a 86 lignes.\n"
     ]
    }
   ],
   "source": [
    "print(\"Il y a {} lignes.\".format(len(df)))\n",
    "df_cut = df[df[\"LatD\"] < 42]\n",
    "print(\"Il y a {} lignes.\".format(len(df_cut)))"
   ]
  },
  {
   "cell_type": "markdown",
   "metadata": {},
   "source": [
    "A noter que si l'on veut plusieurs conditions, le 'et' est symbolisé par & et le 'ou' par ||."
   ]
  },
  {
   "cell_type": "code",
   "execution_count": 35,
   "metadata": {},
   "outputs": [
    {
     "name": "stdout",
     "output_type": "stream",
     "text": [
      "Il y a 23 lignes.\n"
     ]
    }
   ],
   "source": [
    "df_cut = df[(df[\"LatD\"] < 42) & (df[\"LonM\"] > 40)]\n",
    "print(\"Il y a {} lignes.\".format(len(df_cut)))"
   ]
  },
  {
   "cell_type": "markdown",
   "metadata": {},
   "source": [
    "Il y a plein d'autres fonctionalités disponibles (on peut simuler les requêtes SQL) mais les deux principales dans ce tutoriel suffiront à comprendre la suite de noos tutoriels.\n",
    "\n",
    "### Différents fichiers\n",
    "\n",
    "Pour le moment, nous avons travaillé avec des fichiers '.csv' mais on peut aussi utiliser des fichiers excel ('.xlsx') avec la fonction ```pd.read_excel```. Les autres formats sont aussi disponibles avec d'autres noms de fonctions."
   ]
  }
 ],
 "metadata": {
  "kernelspec": {
   "display_name": ".venv",
   "language": "python",
   "name": "python3"
  },
  "language_info": {
   "codemirror_mode": {
    "name": "ipython",
    "version": 3
   },
   "file_extension": ".py",
   "mimetype": "text/x-python",
   "name": "python",
   "nbconvert_exporter": "python",
   "pygments_lexer": "ipython3",
   "version": "3.11.3"
  },
  "orig_nbformat": 4
 },
 "nbformat": 4,
 "nbformat_minor": 2
}
